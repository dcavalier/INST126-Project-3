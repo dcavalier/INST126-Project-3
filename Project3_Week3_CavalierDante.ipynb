{
 "cells": [
  {
   "cell_type": "code",
   "execution_count": 1,
   "metadata": {},
   "outputs": [],
   "source": [
    "#report = input(\"Choose one report from the following list to observe:\\n\"\n",
    "#                \"suspicious_report.txt\\n\"\n",
    "#                \"irresponsible_report.txt\\n\"\n",
    "#                \"glitch_report.txt\\n\"\n",
    "#                \"domain_report.txt\\n\")\n",
    "\n",
    "f = open(\"userlog.log\", 'r')\n",
    "data = file.readlines()\n",
    "\n",
    "def suspicious_activities():   \n",
    "\n",
    "    L = open(\"suspicious_report.txt\", \"w\")\n",
    "    for data in f:\n",
    "        L.write()      \n",
    "        \n",
    "#If login > 5 || time > 0 and time < 5, sus_count += 1\n",
    "#Convert time to 12 hour time in \"suspicious_report.txt\"\n",
    "\n",
    "    f.close()\n",
    "def irresponsible_behavior():\n",
    "    \n",
    "    L = open(\"irresponsible_report.txt\", \"w\")\n",
    "    for data in f:\n",
    "        L.write()\n",
    "        \n",
    "#For every user in 'userlog.log', if login > logout, irres_count += 1       \n",
    "        \n",
    "    f.close()\n",
    "def  system_glitch():\n",
    "    \n",
    "    L = open(\"glitch_report.txt\", \"w\")\n",
    "    for data in f:\n",
    "        L.write(w)\n",
    "\n",
    "#For every user in 'userlog.log', if logout > login, glitch_count += 1  \n",
    "    \n",
    "    f.close()\n",
    "def domain_count():\n",
    "    \n",
    "    L = open(\"domain_report.txt\", \"w\")\n",
    "    for data in f:\n",
    "        L.write()\n",
    "    \n",
    "    f.close()\n",
    "\n",
    "#usernames.split()\n",
    "#Check for repetitions on each line, if any: skip, line += 1     \n",
    "#Append list each first/initial occurance of a domain name\n",
    "\n",
    "L.close()"
   ]
  },
  {
   "cell_type": "code",
   "execution_count": null,
   "metadata": {},
   "outputs": [],
   "source": []
  }
 ],
 "metadata": {
  "kernelspec": {
   "display_name": "Python 3",
   "language": "python",
   "name": "python3"
  },
  "language_info": {
   "codemirror_mode": {
    "name": "ipython",
    "version": 3
   },
   "file_extension": ".py",
   "mimetype": "text/x-python",
   "name": "python",
   "nbconvert_exporter": "python",
   "pygments_lexer": "ipython3",
   "version": "3.8.5"
  }
 },
 "nbformat": 4,
 "nbformat_minor": 4
}
